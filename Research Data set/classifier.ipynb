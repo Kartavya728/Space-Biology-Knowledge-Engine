{
 "cells": [
  {
   "cell_type": "code",
   "execution_count": 2,
   "id": "80f614b1",
   "metadata": {},
   "outputs": [],
   "source": [
    "from pydantic import BaseModel, Field\n",
    "import pandas as pd\n",
    "import google.genai as genai\n",
    "from google.genai import types\n",
    "import regex as re\n",
    "import os\n",
    "import dotenv"
   ]
  },
  {
   "cell_type": "code",
   "execution_count": 3,
   "id": "4a1e8828",
   "metadata": {},
   "outputs": [
    {
     "data": {
      "text/html": [
       "<div>\n",
       "<style scoped>\n",
       "    .dataframe tbody tr th:only-of-type {\n",
       "        vertical-align: middle;\n",
       "    }\n",
       "\n",
       "    .dataframe tbody tr th {\n",
       "        vertical-align: top;\n",
       "    }\n",
       "\n",
       "    .dataframe thead th {\n",
       "        text-align: right;\n",
       "    }\n",
       "</style>\n",
       "<table border=\"1\" class=\"dataframe\">\n",
       "  <thead>\n",
       "    <tr style=\"text-align: right;\">\n",
       "      <th></th>\n",
       "      <th>Title</th>\n",
       "      <th>Link</th>\n",
       "    </tr>\n",
       "  </thead>\n",
       "  <tbody>\n",
       "    <tr>\n",
       "      <th>0</th>\n",
       "      <td>Mice in Bion-M 1 space mission: training and s...</td>\n",
       "      <td>https://www.ncbi.nlm.nih.gov/pmc/articles/PMC4...</td>\n",
       "    </tr>\n",
       "    <tr>\n",
       "      <th>1</th>\n",
       "      <td>Microgravity induces pelvic bone loss through ...</td>\n",
       "      <td>https://www.ncbi.nlm.nih.gov/pmc/articles/PMC3...</td>\n",
       "    </tr>\n",
       "    <tr>\n",
       "      <th>2</th>\n",
       "      <td>Stem Cell Health and Tissue Regeneration in Mi...</td>\n",
       "      <td>https://www.ncbi.nlm.nih.gov/pmc/articles/PMC1...</td>\n",
       "    </tr>\n",
       "    <tr>\n",
       "      <th>3</th>\n",
       "      <td>Microgravity Reduces the Differentiation and R...</td>\n",
       "      <td>https://www.ncbi.nlm.nih.gov/pmc/articles/PMC7...</td>\n",
       "    </tr>\n",
       "    <tr>\n",
       "      <th>4</th>\n",
       "      <td>Microgravity validation of a novel system for ...</td>\n",
       "      <td>https://www.ncbi.nlm.nih.gov/pmc/articles/PMC5...</td>\n",
       "    </tr>\n",
       "    <tr>\n",
       "      <th>...</th>\n",
       "      <td>...</td>\n",
       "      <td>...</td>\n",
       "    </tr>\n",
       "    <tr>\n",
       "      <th>602</th>\n",
       "      <td>Spaceflight alters host-gut microbiota interac...</td>\n",
       "      <td>https://www.ncbi.nlm.nih.gov/pmc/articles/PMC1...</td>\n",
       "    </tr>\n",
       "    <tr>\n",
       "      <th>603</th>\n",
       "      <td>Discoveries from human stem cell research in s...</td>\n",
       "      <td>https://www.ncbi.nlm.nih.gov/pmc/articles/PMC1...</td>\n",
       "    </tr>\n",
       "    <tr>\n",
       "      <th>604</th>\n",
       "      <td>Simulated microgravity impairs human NK [natur...</td>\n",
       "      <td>https://www.ncbi.nlm.nih.gov/pmc/articles/PMC1...</td>\n",
       "    </tr>\n",
       "    <tr>\n",
       "      <th>605</th>\n",
       "      <td>Simulated microgravity alters gene regulation ...</td>\n",
       "      <td>https://www.ncbi.nlm.nih.gov/pmc/articles/PMC1...</td>\n",
       "    </tr>\n",
       "    <tr>\n",
       "      <th>606</th>\n",
       "      <td>Spaceflight increases sarcoplasmic reticulum C...</td>\n",
       "      <td>https://www.ncbi.nlm.nih.gov/pmc/articles/PMC1...</td>\n",
       "    </tr>\n",
       "  </tbody>\n",
       "</table>\n",
       "<p>607 rows × 2 columns</p>\n",
       "</div>"
      ],
      "text/plain": [
       "                                                 Title  \\\n",
       "0    Mice in Bion-M 1 space mission: training and s...   \n",
       "1    Microgravity induces pelvic bone loss through ...   \n",
       "2    Stem Cell Health and Tissue Regeneration in Mi...   \n",
       "3    Microgravity Reduces the Differentiation and R...   \n",
       "4    Microgravity validation of a novel system for ...   \n",
       "..                                                 ...   \n",
       "602  Spaceflight alters host-gut microbiota interac...   \n",
       "603  Discoveries from human stem cell research in s...   \n",
       "604  Simulated microgravity impairs human NK [natur...   \n",
       "605  Simulated microgravity alters gene regulation ...   \n",
       "606  Spaceflight increases sarcoplasmic reticulum C...   \n",
       "\n",
       "                                                  Link  \n",
       "0    https://www.ncbi.nlm.nih.gov/pmc/articles/PMC4...  \n",
       "1    https://www.ncbi.nlm.nih.gov/pmc/articles/PMC3...  \n",
       "2    https://www.ncbi.nlm.nih.gov/pmc/articles/PMC1...  \n",
       "3    https://www.ncbi.nlm.nih.gov/pmc/articles/PMC7...  \n",
       "4    https://www.ncbi.nlm.nih.gov/pmc/articles/PMC5...  \n",
       "..                                                 ...  \n",
       "602  https://www.ncbi.nlm.nih.gov/pmc/articles/PMC1...  \n",
       "603  https://www.ncbi.nlm.nih.gov/pmc/articles/PMC1...  \n",
       "604  https://www.ncbi.nlm.nih.gov/pmc/articles/PMC1...  \n",
       "605  https://www.ncbi.nlm.nih.gov/pmc/articles/PMC1...  \n",
       "606  https://www.ncbi.nlm.nih.gov/pmc/articles/PMC1...  \n",
       "\n",
       "[607 rows x 2 columns]"
      ]
     },
     "execution_count": 3,
     "metadata": {},
     "output_type": "execute_result"
    }
   ],
   "source": [
    "df = pd.read_csv('SB_publication_PMC.csv')\n",
    "df"
   ]
  },
  {
   "cell_type": "code",
   "execution_count": 6,
   "id": "69175d51",
   "metadata": {},
   "outputs": [
    {
     "name": "stdout",
     "output_type": "stream",
     "text": [
      " that I want to remove after.\n"
     ]
    }
   ],
   "source": [
    "import re\n",
    "\n",
    "text = \"This is a sample string with a specific_substring that I want to remove after.\"\n",
    "substring_to_find = \"specific_substring\"\n",
    "\n",
    "# Construct the regex pattern:\n",
    "# - re.escape() ensures special characters in substring_to_find are handled correctly.\n",
    "# - .* matches any character (except newline) zero or more times.\n",
    "pattern = r\".*\" + re.escape(substring_to_find)\n",
    "\n",
    "# Use re.sub() to replace the matched pattern with an empty string\n",
    "result = re.sub(pattern, \"\", text)\n",
    "\n",
    "print(result)"
   ]
  }
 ],
 "metadata": {
  "kernelspec": {
   "display_name": "Python 3",
   "language": "python",
   "name": "python3"
  },
  "language_info": {
   "codemirror_mode": {
    "name": "ipython",
    "version": 3
   },
   "file_extension": ".py",
   "mimetype": "text/x-python",
   "name": "python",
   "nbconvert_exporter": "python",
   "pygments_lexer": "ipython3",
   "version": "3.13.0"
  }
 },
 "nbformat": 4,
 "nbformat_minor": 5
}
